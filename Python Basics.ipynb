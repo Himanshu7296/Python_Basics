{
 "cells": [
  {
   "cell_type": "code",
   "execution_count": null,
   "metadata": {},
   "outputs": [],
   "source": [
    "x = 'awesome'                    # Variable Instantiation\n",
    "print('Python is ' + x)"
   ]
  },
  {
   "cell_type": "code",
   "execution_count": null,
   "metadata": {},
   "outputs": [],
   "source": [
    "x = \"awesome\"                    # Both Single and Double Quotes works in Similar Fashion\n",
    "print(\"Python is \" + x)"
   ]
  },
  {
   "cell_type": "code",
   "execution_count": null,
   "metadata": {},
   "outputs": [],
   "source": [
    "type(x)                         # String Type"
   ]
  },
  {
   "cell_type": "code",
   "execution_count": null,
   "metadata": {},
   "outputs": [],
   "source": [
    "x = 10                          # Integer Type\n",
    "type(x)"
   ]
  },
  {
   "cell_type": "code",
   "execution_count": null,
   "metadata": {},
   "outputs": [],
   "source": [
    "x = 10.5                        # Float Type\n",
    "type(x)"
   ]
  },
  {
   "cell_type": "code",
   "execution_count": null,
   "metadata": {},
   "outputs": [],
   "source": [
    "type(True)                      # Boolean Type"
   ]
  },
  {
   "cell_type": "markdown",
   "metadata": {},
   "source": [
    "# Conditional Statements"
   ]
  },
  {
   "cell_type": "code",
   "execution_count": null,
   "metadata": {},
   "outputs": [],
   "source": [
    "# if - elif - else"
   ]
  },
  {
   "cell_type": "code",
   "execution_count": null,
   "metadata": {},
   "outputs": [],
   "source": [
    "a = int(input('Enter value for a: '))\n",
    "b = int(input('Enter value for b: '))\n",
    "\n",
    "if a > b:                              # If statement on top is Mandatory. Both elif and else below that is optional.\n",
    "    print('a greater than b')\n",
    "elif b > a:\n",
    "    print('b greater than a')\n",
    "else:\n",
    "    print('Both are equal')"
   ]
  },
  {
   "cell_type": "markdown",
   "metadata": {},
   "source": [
    "# Looping Statements"
   ]
  },
  {
   "cell_type": "code",
   "execution_count": null,
   "metadata": {},
   "outputs": [],
   "source": [
    "# While Loop"
   ]
  },
  {
   "cell_type": "code",
   "execution_count": null,
   "metadata": {},
   "outputs": [],
   "source": [
    "i = 0\n",
    "\n",
    "while (i < 6):        # Ensure that loop gets terminated after a certain period of time. Infinite Loop raise an error. \n",
    "    print(i)\n",
    "    i += 1"
   ]
  },
  {
   "cell_type": "code",
   "execution_count": null,
   "metadata": {},
   "outputs": [],
   "source": [
    "# Usage of Break and Continue"
   ]
  },
  {
   "cell_type": "code",
   "execution_count": null,
   "metadata": {},
   "outputs": [],
   "source": [
    "i = 1              # Break\n",
    "while i < 6:\n",
    "    print(i)\n",
    "    if i == 3:\n",
    "        break\n",
    "    i += 1"
   ]
  },
  {
   "cell_type": "code",
   "execution_count": null,
   "metadata": {},
   "outputs": [],
   "source": [
    "i = 1              # Continue \n",
    "while i < 6:\n",
    "    if i == 3:\n",
    "        i += 1\n",
    "        continue\n",
    "    print(i)\n",
    "    i += 1\n"
   ]
  },
  {
   "cell_type": "code",
   "execution_count": null,
   "metadata": {},
   "outputs": [],
   "source": [
    "# For Loop"
   ]
  },
  {
   "cell_type": "code",
   "execution_count": null,
   "metadata": {},
   "outputs": [],
   "source": [
    "fruits = [\"apple\", \"banana\", \"cherry\"]\n",
    "for x in fruits:\n",
    "    print(x)"
   ]
  },
  {
   "cell_type": "code",
   "execution_count": null,
   "metadata": {},
   "outputs": [],
   "source": [
    "# Range Function"
   ]
  },
  {
   "cell_type": "code",
   "execution_count": null,
   "metadata": {},
   "outputs": [],
   "source": [
    "for x in range(3):\n",
    "    print(x)"
   ]
  },
  {
   "cell_type": "code",
   "execution_count": null,
   "metadata": {},
   "outputs": [],
   "source": [
    "for x in range(2, 6):\n",
    "    print(x)"
   ]
  },
  {
   "cell_type": "code",
   "execution_count": null,
   "metadata": {},
   "outputs": [],
   "source": [
    "for x in range(2, 12, 3):\n",
    "    print(x)"
   ]
  },
  {
   "cell_type": "markdown",
   "metadata": {},
   "source": [
    "### EVAL Method"
   ]
  },
  {
   "cell_type": "code",
   "execution_count": null,
   "metadata": {},
   "outputs": [],
   "source": [
    "input1 = input(\"Enter any number of your choice: \")      # Normal Scenario\n",
    "print(input1)\n",
    "print(type(input1))"
   ]
  },
  {
   "cell_type": "code",
   "execution_count": null,
   "metadata": {},
   "outputs": [],
   "source": [
    "eval = eval(input(\"Enter any number of your choice: \"))  # EVAL Method Scenario\n",
    "print(eval)\n",
    "print(type(eval))"
   ]
  },
  {
   "cell_type": "markdown",
   "metadata": {},
   "source": [
    "### Strings "
   ]
  },
  {
   "cell_type": "code",
   "execution_count": null,
   "metadata": {},
   "outputs": [],
   "source": [
    "b = 'Hello, World!'\n",
    "print(b[2:5])"
   ]
  },
  {
   "cell_type": "code",
   "execution_count": null,
   "metadata": {},
   "outputs": [],
   "source": [
    "b = 'Hello, World!'    # Negative Indexing\n",
    "print(b[5:2:-1])"
   ]
  },
  {
   "cell_type": "code",
   "execution_count": null,
   "metadata": {},
   "outputs": [],
   "source": [
    "a = 'Hello, World!'    # Length Method\n",
    "print(len(a))"
   ]
  },
  {
   "cell_type": "code",
   "execution_count": null,
   "metadata": {},
   "outputs": [],
   "source": [
    "a = 'Hello, World!    '   # Strip - Removes Whitespaces\n",
    "print(a.strip())"
   ]
  },
  {
   "cell_type": "code",
   "execution_count": null,
   "metadata": {},
   "outputs": [],
   "source": [
    "a = 'Hello, World!    '   # lower - Lowercase\n",
    "print(a.lower())"
   ]
  },
  {
   "cell_type": "code",
   "execution_count": null,
   "metadata": {},
   "outputs": [],
   "source": [
    "a = 'Hello, World!    '   # lower - Uppercase\n",
    "print(a.upper())"
   ]
  },
  {
   "cell_type": "code",
   "execution_count": null,
   "metadata": {},
   "outputs": [],
   "source": [
    "a = 'Hello, World!    '   # replace - Replaces one String with Another\n",
    "print(a.replace('H','J'))"
   ]
  },
  {
   "cell_type": "code",
   "execution_count": null,
   "metadata": {},
   "outputs": [],
   "source": [
    "a = 'Hello, World!'   # Split - Splits the String based on certain parameter\n",
    "print(a.split(', '))"
   ]
  },
  {
   "cell_type": "code",
   "execution_count": null,
   "metadata": {},
   "outputs": [],
   "source": [
    "# Checking presencr of String1 in String2\n",
    "\n",
    "a = 'If I could play with you'\n",
    "b = 'play'\n",
    "\n",
    "if b in a:\n",
    "    print('Found')"
   ]
  },
  {
   "cell_type": "code",
   "execution_count": null,
   "metadata": {},
   "outputs": [],
   "source": [
    "a,b = 'Lionel','Messi'      # Concatenation of Strings\n",
    "c = a + ' ' + b\n",
    "print(c)"
   ]
  },
  {
   "cell_type": "code",
   "execution_count": null,
   "metadata": {},
   "outputs": [],
   "source": [
    "str1 = 'My weight is {} kgs'     # Format Function\n",
    "print(str1.format(68))\n",
    "\n",
    "print('I like to do {} pushups'.format(20))  # Another way"
   ]
  },
  {
   "cell_type": "markdown",
   "metadata": {},
   "source": [
    "## Lists"
   ]
  },
  {
   "cell_type": "code",
   "execution_count": null,
   "metadata": {},
   "outputs": [],
   "source": [
    "thislist = [\"apple\", \"banana\", \"cherry\"]\n",
    "print(thislist)"
   ]
  },
  {
   "cell_type": "code",
   "execution_count": null,
   "metadata": {},
   "outputs": [],
   "source": [
    "print(thislist[0])    # Print using Index\n",
    "print(thislist[-1])   # Reverse Print"
   ]
  },
  {
   "cell_type": "code",
   "execution_count": null,
   "metadata": {},
   "outputs": [],
   "source": [
    "thislist = [\"apple\", \"banana\", \"cherry\", \"orange\", \"kiwi\", \"melon\", \"mango\"]\n",
    "print(thislist[:4])      # Slicing\n",
    "print(thislist[2:])"
   ]
  },
  {
   "cell_type": "code",
   "execution_count": null,
   "metadata": {},
   "outputs": [],
   "source": [
    "thislist = [\"apple\", \"banana\", \"cherry\"]\n",
    "thislist[1] = \"blackcurrant\"     # Editing Value at Index\n",
    "print(thislist)"
   ]
  },
  {
   "cell_type": "code",
   "execution_count": null,
   "metadata": {},
   "outputs": [],
   "source": [
    "thislist = [\"apple\", \"banana\", \"cherry\"]    # Printing Individual Element using For Loop\n",
    "for x in thislist:\n",
    "    print(x)"
   ]
  },
  {
   "cell_type": "code",
   "execution_count": null,
   "metadata": {},
   "outputs": [],
   "source": [
    "print(len(thislist))"
   ]
  },
  {
   "cell_type": "code",
   "execution_count": null,
   "metadata": {},
   "outputs": [],
   "source": [
    "thislist.append(\"orange\")      # Adding Value at End\n",
    "thislist.insert(1, \"kiwi\")     # Adding Value at Index\n",
    "print(thislist)"
   ]
  },
  {
   "cell_type": "code",
   "execution_count": null,
   "metadata": {},
   "outputs": [],
   "source": [
    "thislist.remove(\"banana\")      # Removing using Value\n",
    "thislist.pop()                 # Removing last value in the list\n",
    "del thislist[0]                # Removing based on the Index\n",
    "print(thislist)"
   ]
  },
  {
   "cell_type": "code",
   "execution_count": null,
   "metadata": {},
   "outputs": [],
   "source": [
    "thislist = [\"apple\", \"banana\", \"cherry\"]     # Making Copy of a List\n",
    "mylist = thislist.copy()\n",
    "print(mylist)"
   ]
  },
  {
   "cell_type": "markdown",
   "metadata": {},
   "source": [
    "### Joining Two Lists"
   ]
  },
  {
   "cell_type": "code",
   "execution_count": null,
   "metadata": {},
   "outputs": [],
   "source": [
    "list1 = [\"a\", \"b\" , \"c\"]\n",
    "list2 = [1, 2, 3]\n",
    "\n",
    "list3 = list1 + list2\n",
    "print(list3)"
   ]
  },
  {
   "cell_type": "code",
   "execution_count": null,
   "metadata": {},
   "outputs": [],
   "source": [
    "list1 = [\"a\", \"b\" , \"c\"]\n",
    "list2 = [1, 2, 3]\n",
    "\n",
    "for x in list2:\n",
    "    list1.append(x)\n",
    "\n",
    "print(list1)"
   ]
  },
  {
   "cell_type": "code",
   "execution_count": null,
   "metadata": {},
   "outputs": [],
   "source": [
    "list1 = [\"a\", \"b\" , \"c\"]            # Best Way without any extra storage\n",
    "list2 = [1, 2, 3]\n",
    "\n",
    "list1.extend(list2)\n",
    "print(list1)"
   ]
  },
  {
   "cell_type": "markdown",
   "metadata": {},
   "source": [
    "### List Comprehensions"
   ]
  },
  {
   "cell_type": "code",
   "execution_count": null,
   "metadata": {},
   "outputs": [],
   "source": [
    "# Format\n",
    "\n",
    "# new_list = [expression for member in iterable]"
   ]
  },
  {
   "cell_type": "code",
   "execution_count": null,
   "metadata": {},
   "outputs": [],
   "source": [
    "squares = [i * i for i in range(1,5)]\n",
    "print(squares)"
   ]
  },
  {
   "cell_type": "markdown",
   "metadata": {},
   "source": [
    "### Tuple"
   ]
  },
  {
   "cell_type": "code",
   "execution_count": null,
   "metadata": {},
   "outputs": [],
   "source": [
    "# A tuple is a collection which is ordered and unchangeable. In Python tuples are written with round brackets."
   ]
  },
  {
   "cell_type": "code",
   "execution_count": null,
   "metadata": {},
   "outputs": [],
   "source": [
    "thistuple = (\"apple\", \"banana\", \"cherry\")\n",
    "print(thistuple)"
   ]
  },
  {
   "cell_type": "code",
   "execution_count": null,
   "metadata": {},
   "outputs": [],
   "source": [
    "thistuple = (\"apple\", \"banana\", \"cherry\")\n",
    "print(thistuple[1])       # Accesing value usinh index\n",
    "print(thistuple[-1])      # Negative Indexing"
   ]
  },
  {
   "cell_type": "code",
   "execution_count": null,
   "metadata": {},
   "outputs": [],
   "source": [
    "thistuple = (\"apple\", \"banana\", \"cherry\", \"orange\", \"kiwi\", \"melon\", \"mango\")\n",
    "print(thistuple[2:5])   # Slicing"
   ]
  },
  {
   "cell_type": "code",
   "execution_count": null,
   "metadata": {},
   "outputs": [],
   "source": [
    "print(len(thistuple))    # Length"
   ]
  },
  {
   "cell_type": "code",
   "execution_count": null,
   "metadata": {},
   "outputs": [],
   "source": [
    "tuple1 = (\"a\", \"b\" , \"c\")             # Joining Two Tuples\n",
    "tuple2 = (1, 2, 3)\n",
    "\n",
    "tuple3 = tuple1 + tuple2\n",
    "print(tuple3)"
   ]
  },
  {
   "cell_type": "markdown",
   "metadata": {},
   "source": [
    "### Sets"
   ]
  },
  {
   "cell_type": "code",
   "execution_count": null,
   "metadata": {},
   "outputs": [],
   "source": [
    "# A set is a collection which is unordered and unindexed. In Python sets are written with curly brackets."
   ]
  },
  {
   "cell_type": "code",
   "execution_count": null,
   "metadata": {},
   "outputs": [],
   "source": [
    "thisset = {\"apple\", \"banana\", \"cherry\"}\n",
    "print(thisset)"
   ]
  },
  {
   "cell_type": "code",
   "execution_count": null,
   "metadata": {},
   "outputs": [],
   "source": [
    "for x in thisset:\n",
    "    print(x)"
   ]
  },
  {
   "cell_type": "code",
   "execution_count": null,
   "metadata": {},
   "outputs": [],
   "source": [
    "thisset.add(\"orange\")    # Adding Values to Set\n",
    "print(thisset)\n",
    "thisset.update([\"kiwi\", \"mango\", \"grapes\"])\n",
    "print(thisset)"
   ]
  },
  {
   "cell_type": "code",
   "execution_count": null,
   "metadata": {},
   "outputs": [],
   "source": [
    "thisset.remove(\"banana\")     # Deleting Values from Set\n",
    "print(thisset)\n",
    "thisset.discard(\"kiwi\")\n",
    "print(thisset)"
   ]
  },
  {
   "cell_type": "code",
   "execution_count": null,
   "metadata": {},
   "outputs": [],
   "source": [
    "thisset.clear()       # Clearing the Set"
   ]
  },
  {
   "cell_type": "code",
   "execution_count": null,
   "metadata": {},
   "outputs": [],
   "source": [
    "del thisset          # Deleting the Set"
   ]
  },
  {
   "cell_type": "markdown",
   "metadata": {},
   "source": [
    "### Dictionary"
   ]
  },
  {
   "cell_type": "code",
   "execution_count": null,
   "metadata": {},
   "outputs": [],
   "source": [
    "# A dictionary is a collection which is unordered, changeable and indexed.\n",
    "# In Python dictionaries are written with curly brackets, and they have keys and values."
   ]
  },
  {
   "cell_type": "code",
   "execution_count": null,
   "metadata": {},
   "outputs": [],
   "source": [
    "thisdict = {\n",
    "  \"brand\": \"Ford\",\n",
    "  \"model\": \"Mustang\",\n",
    "  \"year\": 1964\n",
    "}\n",
    "\n",
    "print(thisdict)"
   ]
  },
  {
   "cell_type": "code",
   "execution_count": null,
   "metadata": {},
   "outputs": [],
   "source": [
    "x = thisdict[\"model\"]  # Accessing Values based on Keys \n",
    "print(x)"
   ]
  },
  {
   "cell_type": "code",
   "execution_count": null,
   "metadata": {},
   "outputs": [],
   "source": [
    "x = thisdict.get(\"brand\")     # Accessing Values based on Keys\n",
    "print(x) "
   ]
  },
  {
   "cell_type": "code",
   "execution_count": null,
   "metadata": {},
   "outputs": [],
   "source": [
    "thisdict[\"year\"] = 2018      # Changing Values using the Keys"
   ]
  },
  {
   "cell_type": "code",
   "execution_count": null,
   "metadata": {},
   "outputs": [],
   "source": [
    "for x in thisdict.values():   # Accessing Values\n",
    "    print(x)"
   ]
  },
  {
   "cell_type": "code",
   "execution_count": null,
   "metadata": {},
   "outputs": [],
   "source": [
    "for x, y in thisdict.items():   # Accessing Values and Keys\n",
    "    print(x, y)"
   ]
  },
  {
   "cell_type": "code",
   "execution_count": null,
   "metadata": {},
   "outputs": [],
   "source": [
    "thisdict[\"color\"] = \"red\"       # Adding new Key-Value Pair\n",
    "for x, y in thisdict.items():   # Accessing Values and Keys\n",
    "    print(x, y)"
   ]
  },
  {
   "cell_type": "code",
   "execution_count": null,
   "metadata": {},
   "outputs": [],
   "source": [
    "del thisdict[\"model\"]       # Deleting using del and Key\n",
    "thisdict.pop(\"color\")       # Deleting using pop and Key\n",
    "for x, y in thisdict.items():\n",
    "    print(x, y)"
   ]
  },
  {
   "cell_type": "markdown",
   "metadata": {},
   "source": [
    "## Function"
   ]
  },
  {
   "cell_type": "code",
   "execution_count": null,
   "metadata": {},
   "outputs": [],
   "source": [
    "def my_function():\n",
    "    print(\"Hello from a function\")\n",
    "\n",
    "my_function()"
   ]
  },
  {
   "cell_type": "code",
   "execution_count": null,
   "metadata": {},
   "outputs": [],
   "source": [
    "def my_function(fname):             # fname is an Argument or Parameter for this function\n",
    "    print(fname + \" Refsnes\")\n",
    "\n",
    "my_function(\"Emil\")\n",
    "my_function(\"Tobias\")\n",
    "my_function(\"Linus\")"
   ]
  },
  {
   "cell_type": "markdown",
   "metadata": {},
   "source": [
    "## *args"
   ]
  },
  {
   "cell_type": "code",
   "execution_count": null,
   "metadata": {},
   "outputs": [],
   "source": [
    "def my_function(*kids):                          # Used when the count of parameters is not clear. kids is a tuple of parameters.\n",
    "    print(\"The youngest child is \" + kids[2])\n",
    "\n",
    "my_function(\"Emil\", \"Tobias\", \"Linus\")"
   ]
  },
  {
   "cell_type": "markdown",
   "metadata": {},
   "source": [
    "## **kwargs"
   ]
  },
  {
   "cell_type": "code",
   "execution_count": null,
   "metadata": {},
   "outputs": [],
   "source": [
    "def my_function(**kid):           # kid is a dictionary. \n",
    "    print(\"His last name is \" + kid[\"lname\"])\n",
    "\n",
    "my_function(fname = \"Tobias\", lname = \"Refsnes\")"
   ]
  },
  {
   "cell_type": "markdown",
   "metadata": {},
   "source": [
    "## Iterators"
   ]
  },
  {
   "cell_type": "code",
   "execution_count": null,
   "metadata": {},
   "outputs": [],
   "source": [
    "# Iterators is an object that is used to iterate over iterable objects in python.\n",
    "# Iterator Object is initialised using iter() method.\n",
    "# It usees the next() method for iteration."
   ]
  },
  {
   "cell_type": "code",
   "execution_count": null,
   "metadata": {},
   "outputs": [],
   "source": [
    "iterable_value = 'Geeks'\n",
    "iterable_obj = iter(iterable_value) \n",
    "  \n",
    "while True: \n",
    "    try: \n",
    "  \n",
    "        # Iterate by calling next \n",
    "        item = next(iterable_obj) \n",
    "        print(item) \n",
    "    except StopIteration: \n",
    "  \n",
    "        # exception will happen when iteration will over \n",
    "        break"
   ]
  },
  {
   "cell_type": "markdown",
   "metadata": {},
   "source": [
    "## Generator"
   ]
  },
  {
   "cell_type": "code",
   "execution_count": null,
   "metadata": {},
   "outputs": [],
   "source": [
    "def gen(n):\n",
    "    for i in range(n):\n",
    "        yield i\n",
    "        \n",
    "for i in gen(10):\n",
    "    print(i)"
   ]
  },
  {
   "cell_type": "code",
   "execution_count": null,
   "metadata": {},
   "outputs": [],
   "source": [
    "def gen(n):\n",
    "    for i in range(n):\n",
    "        yield i\n",
    "        \n",
    "obj = gen(4)\n",
    "\n",
    "print(next(obj))    # Next Keyword\n",
    "print(next(obj))\n",
    "print(next(obj))"
   ]
  },
  {
   "cell_type": "markdown",
   "metadata": {},
   "source": [
    "## Lambda Function"
   ]
  },
  {
   "cell_type": "code",
   "execution_count": null,
   "metadata": {},
   "outputs": [],
   "source": [
    "# Lambda is a One-Line Functions.Only use when the function is used only once in the program\n",
    "'''\n",
    "Lambda argument: manipulate(argument)\n",
    "'''"
   ]
  },
  {
   "cell_type": "code",
   "execution_count": null,
   "metadata": {},
   "outputs": [],
   "source": [
    "def add(a, b):\n",
    "    s = a+b\n",
    "    return s\n",
    "\n",
    "add(4,6)"
   ]
  },
  {
   "cell_type": "code",
   "execution_count": null,
   "metadata": {},
   "outputs": [],
   "source": [
    "add = lambda x,y : x+y\n",
    "print(add(4,6))"
   ]
  },
  {
   "cell_type": "markdown",
   "metadata": {},
   "source": [
    "## Map Function"
   ]
  },
  {
   "cell_type": "code",
   "execution_count": null,
   "metadata": {},
   "outputs": [],
   "source": [
    "'''\n",
    "map(function_to_apply, list of imputs)\n",
    "'''"
   ]
  },
  {
   "cell_type": "code",
   "execution_count": null,
   "metadata": {},
   "outputs": [],
   "source": [
    "h1 = [1,2,4,5,7]\n",
    "h2 = []\n",
    "\n",
    "for i in h1:\n",
    "    h2.append(i**2)"
   ]
  },
  {
   "cell_type": "code",
   "execution_count": null,
   "metadata": {},
   "outputs": [],
   "source": [
    "h2"
   ]
  },
  {
   "cell_type": "code",
   "execution_count": null,
   "metadata": {},
   "outputs": [],
   "source": [
    "def sq(n):\n",
    "    return n**2\n",
    "\n",
    "h3 = list(map(sq, h1))\n",
    "print(h3)"
   ]
  },
  {
   "cell_type": "markdown",
   "metadata": {},
   "source": [
    "## Filter Function"
   ]
  },
  {
   "cell_type": "code",
   "execution_count": null,
   "metadata": {},
   "outputs": [],
   "source": [
    "def greater_than_2(n):\n",
    "    return n > 2\n",
    "\n",
    "h1 = [3,5,6,1,0,2]\n",
    "\n",
    "greater_than_two = list(filter(greater_than_2, h1))\n",
    "print(greater_than_two)"
   ]
  },
  {
   "cell_type": "markdown",
   "metadata": {},
   "source": [
    "## Reduce Function"
   ]
  },
  {
   "cell_type": "code",
   "execution_count": null,
   "metadata": {},
   "outputs": [],
   "source": [
    "from functools import reduce\n",
    "\n",
    "def sum_num(a, b):\n",
    "    return a+b\n",
    "\n",
    "li1 = reduce(sum_num, [1,2,3,4])      # 1+2 = (3)+3 = (6)+4 = 10 --> Final Result\n",
    "print(li1)"
   ]
  },
  {
   "cell_type": "markdown",
   "metadata": {},
   "source": [
    "# Exception Handling"
   ]
  },
  {
   "cell_type": "code",
   "execution_count": null,
   "metadata": {},
   "outputs": [],
   "source": [
    "try:\n",
    "    open('this.text')\n",
    "except Exception as e:\n",
    "    print(e)\n",
    "    \n",
    "# If an error is thrown the program stops completely. But if we catch the error using Try Except Block, then the program beyond \n",
    "# the error will continue to run."
   ]
  },
  {
   "cell_type": "code",
   "execution_count": null,
   "metadata": {},
   "outputs": [],
   "source": [
    "try:                                      # Handling Multiple Exception and Finally Use\n",
    "    file = open('this.txt','r')\n",
    "except EOFError as e:\n",
    "    print('EOF Error')\n",
    "except IOError as e:\n",
    "    print('IOError')\n",
    "finally:\n",
    "    print('This will run irrespective of the exception')"
   ]
  },
  {
   "cell_type": "code",
   "execution_count": null,
   "metadata": {},
   "outputs": [],
   "source": [
    "try:\n",
    "    print('I will try this code and will throw exception if there is any issue')\n",
    "except Exception as e:\n",
    "    print('I will run only if try block fails')\n",
    "else:\n",
    "    print('I will only run if there is no exception')\n",
    "finally:\n",
    "    print('This will be executed in every case.')"
   ]
  },
  {
   "cell_type": "markdown",
   "metadata": {},
   "source": [
    "## OOPS Concepts"
   ]
  },
  {
   "cell_type": "code",
   "execution_count": null,
   "metadata": {},
   "outputs": [],
   "source": [
    "# A simple example class \n",
    "class Test: \n",
    "\t\n",
    "\t# A sample method \n",
    "\tdef fun(self): \n",
    "\t\tprint(\"Hello\") \n",
    "\n",
    "# Driver code \n",
    "obj = Test()    # Object Creation for Class Test\n",
    "obj.fun()       # Calling the fun method from class Test using object obj of the class Test"
   ]
  },
  {
   "cell_type": "code",
   "execution_count": null,
   "metadata": {},
   "outputs": [],
   "source": [
    "# A Sample class with init method \n",
    "class Person: \n",
    "\n",
    "\t# init method or constructor \n",
    "\tdef __init__(self, name): \n",
    "\t\tself.name = name \n",
    "\n",
    "\t# Sample Method \n",
    "\tdef say_hi(self): \n",
    "\t\tprint('Hello, my name is', self.name) \n",
    "\n",
    "p = Person('Himanshu')  # Object Creation for class Person. init will also be trigerred to assign value for name.\n",
    "p.say_hi() \n"
   ]
  },
  {
   "cell_type": "markdown",
   "metadata": {},
   "source": [
    "### Class Variables"
   ]
  },
  {
   "cell_type": "code",
   "execution_count": null,
   "metadata": {},
   "outputs": [],
   "source": [
    "# Python program to show that the variables with a value \n",
    "# assigned in class declaration, are class variables and \n",
    "# variables inside methods and constructors are instance \n",
    "# variables. \n",
    "\n",
    "# Class for Computer Science Student \n",
    "class CSStudent: \n",
    "\n",
    "\t# Class Variable \n",
    "\tstream = 'cse'\t\t\t\n",
    "\n",
    "\t# The init method or constructor \n",
    "\tdef __init__(self, roll): \n",
    "\t\n",
    "\t\t# Instance Variable\t \n",
    "\t\tself.roll = roll\t \n",
    "\n",
    "# Objects of CSStudent class \n",
    "a = CSStudent(101) \n",
    "b = CSStudent(102) \n",
    "\n",
    "print(a.stream) # prints \"cse\" \n",
    "print(b.stream) # prints \"cse\" \n",
    "print(a.roll) # prints 101 \n",
    "\n",
    "# Class variables can be accessed using class \n",
    "# name also \n",
    "print(CSStudent.stream) # prints \"cse\""
   ]
  },
  {
   "cell_type": "markdown",
   "metadata": {},
   "source": [
    "### Instance Variables"
   ]
  },
  {
   "cell_type": "code",
   "execution_count": null,
   "metadata": {},
   "outputs": [],
   "source": [
    "# Python program to show that we can create \n",
    "# instance variables inside methods \n",
    "\n",
    "# Class for Computer Science Student \n",
    "class CSStudent: \n",
    "\t\n",
    "\t# Class Variable \n",
    "\tstream = 'cse'\t\n",
    "\t\n",
    "\t# The init method or constructor \n",
    "\tdef __init__(self, roll): \n",
    "\t\t\n",
    "\t\t# Instance Variable \n",
    "\t\tself.roll = roll\t\t\t \n",
    "\n",
    "\t# Adds an instance variable \n",
    "\tdef setAddress(self, address): \n",
    "\t\tself.address = address \n",
    "\t\n",
    "\t# Retrieves instance variable\t \n",
    "\tdef getAddress(self):\t \n",
    "\t\treturn self.address \n",
    "\n",
    "# Driver Code \n",
    "a = CSStudent(101) \n",
    "a.setAddress(\"Noida, UP\") \n",
    "print(a.getAddress()) \n"
   ]
  },
  {
   "cell_type": "markdown",
   "metadata": {},
   "source": [
    "## Constructor and Destructor"
   ]
  },
  {
   "cell_type": "code",
   "execution_count": null,
   "metadata": {},
   "outputs": [],
   "source": [
    "class TestClass:\n",
    "    \n",
    "    def __init__(self):\n",
    "        print('Constructor Invoked')\n",
    "        \n",
    "    def __del__(self):\n",
    "        print('Destructor Invoked')\n",
    "        \n",
    "obj = TestClass()\n",
    "del obj"
   ]
  },
  {
   "cell_type": "markdown",
   "metadata": {},
   "source": [
    "## Inheritance"
   ]
  },
  {
   "cell_type": "code",
   "execution_count": 2,
   "metadata": {},
   "outputs": [
    {
     "data": {
      "text/plain": [
       "2"
      ]
     },
     "execution_count": 2,
     "metadata": {},
     "output_type": "execute_result"
    }
   ],
   "source": [
    "class Employee:\n",
    "    \n",
    "    def __init__(self, fname, lname, salary):\n",
    "        self.fname = fname\n",
    "        self.lname = lname\n",
    "        self.salary = salary\n",
    "        \n",
    "    def get_salary(self):\n",
    "        return self.salary\n",
    "\n",
    "class Programmer(Employee):\n",
    "    \n",
    "    def __init__(self, fname, lname, salary, proglang, exp):\n",
    "        super().__init__(fname, lname, salary)\n",
    "        self.proglang = proglang\n",
    "        self.exp = exp\n",
    "\n",
    "obj = Programmer('Himanshu', 'Ahlawat', 30000, 'Python', 2)\n",
    "obj.fname\n",
    "obj.exp"
   ]
  },
  {
   "cell_type": "markdown",
   "metadata": {},
   "source": [
    "## I/O Operations"
   ]
  },
  {
   "cell_type": "code",
   "execution_count": null,
   "metadata": {},
   "outputs": [],
   "source": [
    "# Reading the File\n",
    "\n",
    "f = open(\"demofile.txt\")\n",
    "f = open(\"demofile.txt\",'rt')         # r - read, t - text mode"
   ]
  },
  {
   "cell_type": "code",
   "execution_count": null,
   "metadata": {},
   "outputs": [],
   "source": [
    "f = open(\"demofile.txt\", \"r\")        # Opening file before reading it\n",
    "print(f.read())\n",
    "\n",
    "print(f.read(5))            # First 5 characters\n",
    "\n",
    "print(f.readline())         # Reading 1 line\n",
    "\n",
    "f = open(\"demofile.txt\", \"r\")     # Looping through test Line by Line\n",
    "for x in f:\n",
    "    print(x)\n",
    "    \n",
    "f.close()    # Advised to close the file once all operations are complete"
   ]
  },
  {
   "cell_type": "code",
   "execution_count": null,
   "metadata": {},
   "outputs": [],
   "source": [
    "# Writing to a file\n",
    "'''\n",
    "\"a\" - Append - will append to the end of the file\n",
    "\"w\" - Write - will overwrite any existing content\n",
    "'''\n",
    "\n",
    "f = open(\"demofile2.txt\", \"a\")                   # Append\n",
    "f.write(\"Now the file has more content!\")\n",
    "f.close()\n",
    "\n",
    "f = open(\"demofile3.txt\", \"w\")                  # Write\n",
    "f.write(\"Woops! I have deleted the content!\")\n",
    "f.close()\n"
   ]
  },
  {
   "cell_type": "code",
   "execution_count": null,
   "metadata": {},
   "outputs": [],
   "source": [
    "# Creating New File\n",
    "'''\n",
    "\"x\" - Create - will create a file, returns an error if the file exist\n",
    "\"a\" - Append - will create a file if the specified file does not exist\n",
    "\"w\" - Write - will create a file if the specified file does not exist\n",
    "'''\n",
    "\n",
    "f = open(\"myfile.txt\", \"x\")"
   ]
  },
  {
   "cell_type": "code",
   "execution_count": null,
   "metadata": {},
   "outputs": [],
   "source": [
    "# Deleting the File\n",
    "\n",
    "'''\n",
    "To delete a file, you must import the OS module, and run its os.remove() function\n",
    "'''\n",
    "\n",
    "import os                                 # Checking if the file exists before deleting it\n",
    "if os.path.exists(\"demofile.txt\"):\n",
    "    os.remove(\"demofile.txt\")\n",
    "else:\n",
    "    print(\"The file does not exist\")\n",
    "    \n",
    "os.rmdir(\"myfolder\")                    # Remove directory command"
   ]
  },
  {
   "cell_type": "code",
   "execution_count": null,
   "metadata": {},
   "outputs": [],
   "source": []
  }
 ],
 "metadata": {
  "kernelspec": {
   "display_name": "Python 3",
   "language": "python",
   "name": "python3"
  },
  "language_info": {
   "codemirror_mode": {
    "name": "ipython",
    "version": 3
   },
   "file_extension": ".py",
   "mimetype": "text/x-python",
   "name": "python",
   "nbconvert_exporter": "python",
   "pygments_lexer": "ipython3",
   "version": "3.7.3"
  }
 },
 "nbformat": 4,
 "nbformat_minor": 2
}
